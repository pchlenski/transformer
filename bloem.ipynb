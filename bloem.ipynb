{
 "cells": [
  {
   "attachments": {},
   "cell_type": "markdown",
   "metadata": {},
   "source": [
    "# Bloem transormer tutorial\n",
    "> Pretty much a verbatim copy of https://peterbloem.nl/blog/transformers\n"
   ]
  },
  {
   "cell_type": "code",
   "execution_count": 1,
   "metadata": {},
   "outputs": [],
   "source": [
    "BATCH_SIZE = 32\n",
    "N_TOKENS = 100"
   ]
  },
  {
   "cell_type": "code",
   "execution_count": 2,
   "metadata": {},
   "outputs": [
    {
     "name": "stdout",
     "output_type": "stream",
     "text": [
      "/home/phil/miniconda3/lib/python3.9/site-packages/_distutils_hack/__init__.py:33: UserWarning: Setuptools is replacing distutils.\n",
      "  warnings.warn(\"Setuptools is replacing distutils.\")\n",
      "Requirement already satisfied: nltk in /data/phil/miniconda3/lib/python3.9/site-packages (3.8.1)\n",
      "Requirement already satisfied: regex>=2021.8.3 in /data/phil/miniconda3/lib/python3.9/site-packages (from nltk) (2022.7.9)\n",
      "Requirement already satisfied: joblib in /data/phil/miniconda3/lib/python3.9/site-packages (from nltk) (1.0.1)\n",
      "Requirement already satisfied: click in /data/phil/miniconda3/lib/python3.9/site-packages (from nltk) (8.1.3)\n",
      "Requirement already satisfied: tqdm in /data/phil/miniconda3/lib/python3.9/site-packages (from nltk) (4.64.1)\n",
      "Note: you may need to restart the kernel to use updated packages.\n"
     ]
    }
   ],
   "source": [
    "pip install nltk"
   ]
  },
  {
   "cell_type": "code",
   "execution_count": 3,
   "metadata": {},
   "outputs": [],
   "source": [
    "import torch\n",
    "import torch.nn as nn\n",
    "import torch.nn.functional as F\n",
    "\n",
    "import numpy as np\n",
    "import pandas as pd\n",
    "import matplotlib.pyplot as plt"
   ]
  },
  {
   "attachments": {},
   "cell_type": "markdown",
   "metadata": {},
   "source": [
    "## Get dataset"
   ]
  },
  {
   "cell_type": "code",
   "execution_count": 4,
   "metadata": {},
   "outputs": [
    {
     "name": "stderr",
     "output_type": "stream",
     "text": [
      "/home/phil/miniconda3/lib/python3.9/site-packages/scipy/__init__.py:146: UserWarning: A NumPy version >=1.16.5 and <1.23.0 is required for this version of SciPy (detected version 1.24.3\n",
      "  warnings.warn(f\"A NumPy version >={np_minversion} and <{np_maxversion}\"\n",
      "[nltk_data] Downloading package punkt to /home/phil/nltk_data...\n",
      "[nltk_data]   Package punkt is already up-to-date!\n"
     ]
    }
   ],
   "source": [
    "# I don't like how they just assume x is a tensor of size (b, t, k)\n",
    "# Instead, I'm going to use word2vec embeddings for actual phrases\n",
    "# I will use a readily available word2vec model from gensim, a readily available tokenizer from nltk, and a readily available dataset from sklearn\n",
    "\n",
    "# from gensim.models import KeyedVectors\n",
    "from gensim.downloader import load\n",
    "import nltk\n",
    "nltk.download('punkt')\n",
    "from nltk.tokenize import word_tokenize\n",
    "from sklearn.datasets import fetch_20newsgroups\n",
    "\n",
    "# Get training data\n",
    "raw_data = fetch_20newsgroups(\n",
    "    subset='train',\n",
    "    remove=('headers', 'footers', 'quotes')\n",
    ")\n",
    "\n",
    "# Tokenize - remove punctuation, lowercase, etc.\n",
    "word2vec = load('word2vec-google-news-300')\n",
    "data_tokens = [word_tokenize(doc) for doc in raw_data.data]\n",
    "\n",
    "\n",
    "# Get word2vec embeddings for each token\n",
    "data = []\n",
    "for doc in data_tokens:\n",
    "    doc_vecs = []\n",
    "    for token in doc:\n",
    "        try:\n",
    "            doc_vecs.append(word2vec[token])\n",
    "        except KeyError:\n",
    "            pass\n",
    "    data.append(doc_vecs)"
   ]
  },
  {
   "cell_type": "code",
   "execution_count": 5,
   "metadata": {},
   "outputs": [
    {
     "name": "stderr",
     "output_type": "stream",
     "text": [
      "/tmp/ipykernel_483574/1465266012.py:11: UserWarning: Creating a tensor from a list of numpy.ndarrays is extremely slow. Please consider converting the list to a single numpy.ndarray with numpy.array() before converting to a tensor. (Triggered internally at ../torch/csrc/utils/tensor_new.cpp:230.)\n",
      "  X.append(torch.tensor(doc))\n"
     ]
    },
    {
     "name": "stdout",
     "output_type": "stream",
     "text": [
      "torch.Size([26804, 100, 300])\n"
     ]
    }
   ],
   "source": [
    "# Make X into an array of tensors of size (100, 300) where n is the number of tokens in the document\n",
    "\n",
    "X = []\n",
    "for doc in data:\n",
    "    while len(doc) > N_TOKENS:\n",
    "        X.append(torch.tensor(doc[:N_TOKENS]))\n",
    "        doc = doc[100:]\n",
    "    \n",
    "    # Final doc must be padded\n",
    "    doc += [[0]*300]*(N_TOKENS-len(doc))\n",
    "    X.append(torch.tensor(doc))\n",
    "\n",
    "X = torch.stack(X)\n",
    "print(X.shape)"
   ]
  },
  {
   "attachments": {},
   "cell_type": "markdown",
   "metadata": {},
   "source": [
    "## Basic attention"
   ]
  },
  {
   "cell_type": "code",
   "execution_count": 6,
   "metadata": {},
   "outputs": [],
   "source": [
    "b = BATCH_SIZE\n",
    "t = N_TOKENS\n",
    "k = 300 # word2vec embedding size"
   ]
  },
  {
   "cell_type": "code",
   "execution_count": 7,
   "metadata": {},
   "outputs": [
    {
     "name": "stdout",
     "output_type": "stream",
     "text": [
      "torch.Size([26804, 100, 300])\n"
     ]
    }
   ],
   "source": [
    "_rw = torch.bmm(X, X.transpose(1, 2)) # Tutorial version\n",
    "raw_weights = X @ X.transpose(1, 2) # Minibatch remains in dim 0: batched matrix multiplication is automatic\n",
    "assert torch.allclose(_rw, raw_weights)\n",
    "\n",
    "weights = F.softmax(raw_weights, dim=2) # Softmax goes over tokens\n",
    "\n",
    "y = weights @ X # y is a weighted sum of the tokens in each document\n",
    "\n",
    "print(y.shape)"
   ]
  },
  {
   "cell_type": "code",
   "execution_count": 8,
   "metadata": {},
   "outputs": [],
   "source": [
    "# Now let's do heldout token prediction\n",
    "\n",
    "# Dataset\n",
    "X_heldout = []\n",
    "y_heldout = []\n",
    "idx_heldout = []\n",
    "for i in range(len(X)):\n",
    "    # Zero out random token\n",
    "    idx = np.random.randint(0, N_TOKENS)\n",
    "\n",
    "    # Masked token in X_heldout\n",
    "    X_heldout.append(X[i].clone())\n",
    "    X_heldout[-1][idx] = 0\n",
    "\n",
    "    # Correct token in y_heldout\n",
    "    y_heldout.append(X[i][idx])\n",
    "\n",
    "    # Index of masked token\n",
    "    idx_heldout.append(idx)\n",
    "\n",
    "X_heldout = torch.stack(X_heldout)\n",
    "y_heldout = torch.stack(y_heldout)"
   ]
  },
  {
   "cell_type": "code",
   "execution_count": 19,
   "metadata": {},
   "outputs": [
    {
     "name": "stdout",
     "output_type": "stream",
     "text": [
      "Epoch 1 loss: 0.0014282956253737211\n",
      "Epoch 1 loss: 0.013606896942499589\n",
      "Epoch 1 loss: 0.015324562204550602\n",
      "Epoch 1 loss: 0.014252761399256996\n",
      "Epoch 1 loss: 0.015907162986812183\n",
      "Epoch 1 loss: 0.013166080409486313\n",
      "Epoch 1 loss: 0.013762694322100288\n",
      "Epoch 1 loss: 0.013106143376873661\n",
      "Epoch 1 loss: 0.014741013009632297\n",
      "Epoch 1 loss: 0.014564138512811041\n",
      "Epoch 1 loss: 0.013850829072969646\n",
      "Epoch 1 loss: 0.013431218494581117\n",
      "Epoch 1 loss: 0.0144240570657239\n",
      "Epoch 1 loss: 0.013789801016107958\n",
      "Epoch 1 loss: 0.01444808213041324\n",
      "Epoch 1 loss: 0.013381376307042956\n",
      "Epoch 1 loss: 0.013212667077452351\n",
      "Epoch 1 loss: 0.014224552552594106\n",
      "Epoch 1 loss: 0.014582807442711782\n",
      "Epoch 1 loss: 0.013611658018595336\n",
      "Epoch 1 loss: 0.014607525937986794\n",
      "Epoch 1 loss: 0.012611919774448324\n",
      "Epoch 1 loss: 0.011784655688326894\n",
      "Epoch 1 loss: 0.013840922284740372\n",
      "Epoch 1 loss: 0.014229247126681003\n",
      "Epoch 1 loss: 0.013517095187628001\n",
      "Epoch 1 loss: 0.014157206708827289\n",
      "Epoch 1 loss: 0.000821079418528825\n",
      "Epoch 2 loss: 0.014161372986498463\n",
      "Epoch 2 loss: 0.013173084011410537\n",
      "Epoch 2 loss: 0.01519397606793791\n",
      "Epoch 2 loss: 0.014173419170241687\n",
      "Epoch 2 loss: 0.015710953050118406\n",
      "Epoch 2 loss: 0.013096740522581968\n",
      "Epoch 2 loss: 0.013748323166713818\n",
      "Epoch 2 loss: 0.01305843613205434\n",
      "Epoch 2 loss: 0.014726549659215379\n",
      "Epoch 2 loss: 0.014563152717295452\n",
      "Epoch 2 loss: 0.01381498618857222\n",
      "Epoch 2 loss: 0.013395042184129125\n",
      "Epoch 2 loss: 0.014424207461175684\n",
      "Epoch 2 loss: 0.013790372499941441\n",
      "Epoch 2 loss: 0.01438101642917536\n",
      "Epoch 2 loss: 0.013342803207815451\n",
      "Epoch 2 loss: 0.013188795310223213\n",
      "Epoch 2 loss: 0.014195626273060043\n",
      "Epoch 2 loss: 0.014612361832092574\n",
      "Epoch 2 loss: 0.013622616968008514\n",
      "Epoch 2 loss: 0.014604674290392722\n",
      "Epoch 2 loss: 0.01259496831064098\n",
      "Epoch 2 loss: 0.01177187174278515\n",
      "Epoch 2 loss: 0.013856895649696525\n",
      "Epoch 2 loss: 0.014184787778001919\n",
      "Epoch 2 loss: 0.013584686348018295\n",
      "Epoch 2 loss: 0.014172428366691747\n",
      "Epoch 2 loss: 0.0008372290176339447\n",
      "Epoch 3 loss: 0.014171988445297757\n",
      "Epoch 3 loss: 0.013166458887008048\n",
      "Epoch 3 loss: 0.015169758876247216\n",
      "Epoch 3 loss: 0.014199527112847136\n",
      "Epoch 3 loss: 0.01572533956213738\n",
      "Epoch 3 loss: 0.013112327296283184\n",
      "Epoch 3 loss: 0.01368841423199774\n",
      "Epoch 3 loss: 0.013054759908518463\n",
      "Epoch 3 loss: 0.014696252741370699\n",
      "Epoch 3 loss: 0.014530816761485767\n",
      "Epoch 3 loss: 0.013804082634058431\n",
      "Epoch 3 loss: 0.013393077908032864\n",
      "Epoch 3 loss: 0.014411456814232225\n",
      "Epoch 3 loss: 0.013774869324213797\n",
      "Epoch 3 loss: 0.01436268777438454\n",
      "Epoch 3 loss: 0.013336696482259868\n",
      "Epoch 3 loss: 0.013148736482668028\n",
      "Epoch 3 loss: 0.014226471537742327\n",
      "Epoch 3 loss: 0.014559037267841631\n",
      "Epoch 3 loss: 0.013616952580745419\n",
      "Epoch 3 loss: 0.01459652403841028\n",
      "Epoch 3 loss: 0.012583809458221367\n",
      "Epoch 3 loss: 0.011779302431568795\n",
      "Epoch 3 loss: 0.013853102870769362\n",
      "Epoch 3 loss: 0.01421220394048578\n",
      "Epoch 3 loss: 0.013553350553505879\n",
      "Epoch 3 loss: 0.014166719881846802\n",
      "Epoch 3 loss: 0.0008825300028547645\n",
      "Epoch 4 loss: 0.014149835806747432\n",
      "Epoch 4 loss: 0.013148310584962018\n",
      "Epoch 4 loss: 0.015181943778385176\n",
      "Epoch 4 loss: 0.014198366475735384\n",
      "Epoch 4 loss: 0.015734542164209414\n",
      "Epoch 4 loss: 0.01309901500759588\n",
      "Epoch 4 loss: 0.013687769224783552\n",
      "Epoch 4 loss: 0.013051497342268703\n",
      "Epoch 4 loss: 0.014678043444167998\n",
      "Epoch 4 loss: 0.01451424460776616\n",
      "Epoch 4 loss: 0.013783782478050852\n",
      "Epoch 4 loss: 0.013399768866715022\n",
      "Epoch 4 loss: 0.014399000996811082\n",
      "Epoch 4 loss: 0.013780955385547713\n",
      "Epoch 4 loss: 0.014349525800073025\n",
      "Epoch 4 loss: 0.013349697332396318\n",
      "Epoch 4 loss: 0.013147843254057079\n",
      "Epoch 4 loss: 0.01421676757850946\n",
      "Epoch 4 loss: 0.014572339874132012\n",
      "Epoch 4 loss: 0.013597916077087576\n",
      "Epoch 4 loss: 0.014591491146624322\n",
      "Epoch 4 loss: 0.01255917362251057\n",
      "Epoch 4 loss: 0.011757445209907019\n",
      "Epoch 4 loss: 0.013843224668191396\n",
      "Epoch 4 loss: 0.014185426442461903\n",
      "Epoch 4 loss: 0.01355336634645937\n",
      "Epoch 4 loss: 0.014150291776371888\n",
      "Epoch 4 loss: 0.0008641089079901576\n",
      "Epoch 5 loss: 0.014133312818601553\n",
      "Epoch 5 loss: 0.013128945062635466\n",
      "Epoch 5 loss: 0.015140989843763237\n",
      "Epoch 5 loss: 0.014160480822298269\n",
      "Epoch 5 loss: 0.015738354572022217\n",
      "Epoch 5 loss: 0.013069589369704772\n",
      "Epoch 5 loss: 0.01370250906655565\n",
      "Epoch 5 loss: 0.013043900416978432\n",
      "Epoch 5 loss: 0.014666010355736944\n",
      "Epoch 5 loss: 0.014534525272312748\n",
      "Epoch 5 loss: 0.01378776146540622\n",
      "Epoch 5 loss: 0.013395041537914949\n",
      "Epoch 5 loss: 0.014404920869688795\n",
      "Epoch 5 loss: 0.01375733093854069\n",
      "Epoch 5 loss: 0.014364835218882944\n",
      "Epoch 5 loss: 0.013351180109842972\n",
      "Epoch 5 loss: 0.013152064830079326\n",
      "Epoch 5 loss: 0.014210317452401797\n",
      "Epoch 5 loss: 0.014597034539852756\n",
      "Epoch 5 loss: 0.013584751956474066\n",
      "Epoch 5 loss: 0.01461320982397592\n",
      "Epoch 5 loss: 0.012545539062721218\n",
      "Epoch 5 loss: 0.011749481802435185\n",
      "Epoch 5 loss: 0.013817863146316086\n",
      "Epoch 5 loss: 0.014164757076869136\n",
      "Epoch 5 loss: 0.013537507227578316\n",
      "Epoch 5 loss: 0.01413309737493546\n",
      "Epoch 5 loss: 0.000876692938618362\n"
     ]
    }
   ],
   "source": [
    "PRINT_INTERVAL = 1000\n",
    "\n",
    "# Model\n",
    "class Bloem(nn.Module):\n",
    "    def __init__(self):\n",
    "        super().__init__()\n",
    "        self.linear1 = nn.Linear(300, 300)\n",
    "        self.linear2 = nn.Linear(300, 300)\n",
    "        \n",
    "    def forward(self, x):\n",
    "        # Use attention weights\n",
    "        weights = F.softmax(x @ x.transpose(1, 2) / 300 ** 0.5, dim=2)\n",
    "        y1 = weights @ x\n",
    "        y2 = y1 @ self.linear1.weight + self.linear1.bias\n",
    "        y2 = F.relu(y2)\n",
    "        r3 = y2 @ self.linear2.weight + self.linear2.bias\n",
    "        return r3\n",
    "    \n",
    "model = Bloem()\n",
    "\n",
    "# Loss\n",
    "loss_fn = nn.MSELoss()\n",
    "\n",
    "# Optimizer\n",
    "optimizer = torch.optim.Adam(model.parameters(), lr=1e-3)\n",
    "\n",
    "# Loss counter\n",
    "losses = []\n",
    "\n",
    "# Training loop\n",
    "for epoch in range(5):\n",
    "    for i in range(len(X)):\n",
    "        # Forward pass\n",
    "        y_pred = model(X_heldout[i:i+1])\n",
    "        \n",
    "        # Compute loss\n",
    "        pred_token = y_pred[:, idx_heldout[i]]\n",
    "        loss = loss_fn(pred_token, y_heldout[i])\n",
    "        losses.append(loss.item())\n",
    "        \n",
    "        # Zero gradients\n",
    "        optimizer.zero_grad()\n",
    "        \n",
    "        # Backward pass\n",
    "        loss.backward()\n",
    "        \n",
    "        # Update weights\n",
    "        optimizer.step()\n",
    "\n",
    "        if i % PRINT_INTERVAL == 0:\n",
    "            print(f'Epoch {epoch+1} loss: {np.mean(losses[-PRINT_INTERVAL:])}')\n",
    "        \n",
    "    print(f'Epoch {epoch+1} loss: {loss.item()}')"
   ]
  },
  {
   "cell_type": "code",
   "execution_count": 21,
   "metadata": {},
   "outputs": [
    {
     "data": {
      "text/plain": [
       "[<matplotlib.lines.Line2D at 0x7fa2b6084d90>]"
      ]
     },
     "execution_count": 21,
     "metadata": {},
     "output_type": "execute_result"
    },
    {
     "data": {
      "image/png": "[encoded data removed]",
      "text/plain": [
       "<Figure size 640x480 with 1 Axes>"
      ]
     },
     "metadata": {},
     "output_type": "display_data"
    }
   ],
   "source": [
    "# Plot loss using a rolling average\n",
    "\n",
    "plt.plot(pd.Series(losses).rolling(1000).mean())"
   ]
  },
  {
   "attachments": {},
   "cell_type": "markdown",
   "metadata": {},
   "source": [
    "## Bloem multihead attention"
   ]
  },
  {
   "cell_type": "code",
   "execution_count": null,
   "metadata": {},
   "outputs": [
    {
     "ename": "",
     "evalue": "",
     "output_type": "error",
     "traceback": [
      "\u001b[1;31mCanceled future for execute_request message before replies were done"
     ]
    },
    {
     "ename": "",
     "evalue": "",
     "output_type": "error",
     "traceback": [
      "\u001b[1;31mThe Kernel crashed while executing code in the the current cell or a previous cell. Please review the code in the cell(s) to identify a possible cause of the failure. Click <a href='https://aka.ms/vscodeJupyterKernelCrash'>here</a> for more info. View Jupyter <a href='command:jupyter.viewOutput'>log</a> for further details."
     ]
    }
   ],
   "source": [
    "# Self-attention first\n",
    "\n",
    "class SelfAttention(nn.Module):\n",
    "    def __init__(self, k, n_heads=4, mask=False):\n",
    "        super().__init__()\n",
    "\n",
    "        assert k % n_heads == 0\n",
    "\n",
    "        self.k = k\n",
    "        self.n_heads = n_heads\n",
    "        self.mask = mask\n",
    "        \n",
    "        self.tokeys = nn.Linear(k, k, bias=False)\n",
    "        self.toqueries = nn.Linear(k, k, bias=False)\n",
    "        self.tovalues = nn.Linear(k, k, bias=False)\n",
    "\n",
    "        self.unifyheads = nn.Linear(k, k)\n",
    "    \n",
    "    def forward(self, x):\n",
    "        b, t, k = x.size() # Batch size, #tokens, embedding size\n",
    "        h = self.n_heads # Number of heads\n",
    "        s = k // h # Size of each head\n",
    "\n",
    "        # Compute queries, keys, and values as 4-D tensors\n",
    "        queries = self.toqueries(x).view(b, t, h, s)\n",
    "        keys = self.tokeys(x).view(b, t, h, s)\n",
    "        values = self.tovalues(x).view(b, t, h, s)\n",
    "\n",
    "        # Reshape to 3-D tensors\n",
    "        queries = queries.transpose(1, 2).contiguous().view(b*h, t, s)\n",
    "        keys = keys.transpose(1, 2).contiguous().view(b*h, t, s)\n",
    "        values = values.transpose(1, 2).contiguous().view(b*h, t, s)\n",
    "\n",
    "        # Compute dot products\n",
    "        dot = F.softmax(\n",
    "            queries @ keys.transpose(1, 2) / (k ** 0.5),\n",
    "            dim=2\n",
    "        ) # (b*h, t, t)\n",
    "\n",
    "        return (dot @ values).view(b, h, t, s)"
   ]
  },
  {
   "cell_type": "code",
   "execution_count": null,
   "metadata": {},
   "outputs": [],
   "source": []
  }
 ],
 "metadata": {
  "kernelspec": {
   "display_name": "base",
   "language": "python",
   "name": "python3"
  },
  "language_info": {
   "codemirror_mode": {
    "name": "ipython",
    "version": 3
   },
   "file_extension": ".py",
   "mimetype": "text/x-python",
   "name": "python",
   "nbconvert_exporter": "python",
   "pygments_lexer": "ipython3",
   "version": "3.9.5"
  },
  "orig_nbformat": 4,
  "vscode": {
   "interpreter": {
    "hash": "e4dc294415b14ea4c0d4d07894c031d87e01c25f832e475b95612eada6e667d4"
   }
  }
 },
 "nbformat": 4,
 "nbformat_minor": 2
}
